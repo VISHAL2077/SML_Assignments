{
  "nbformat": 4,
  "nbformat_minor": 0,
  "metadata": {
    "colab": {
      "provenance": [],
      "authorship_tag": "ABX9TyOEJE8PKmfY+XrdFHC1rAmz",
      "include_colab_link": true
    },
    "kernelspec": {
      "name": "python3",
      "display_name": "Python 3"
    },
    "language_info": {
      "name": "python"
    }
  },
  "cells": [
    {
      "cell_type": "markdown",
      "metadata": {
        "id": "view-in-github",
        "colab_type": "text"
      },
      "source": [
        "<a href=\"https://colab.research.google.com/github/VISHAL2077/SML_Assignments/blob/main/project.ipynb\" target=\"_parent\"><img src=\"https://colab.research.google.com/assets/colab-badge.svg\" alt=\"Open In Colab\"/></a>"
      ]
    },
    {
      "cell_type": "code",
      "execution_count": 2,
      "metadata": {
        "id": "C1csDt96a8mB"
      },
      "outputs": [],
      "source": [
        "import pandas as pd\n",
        "\n",
        "data = pd.read_csv('life_expectancy.csv')"
      ]
    },
    {
      "cell_type": "code",
      "source": [
        "print(data.head())\n",
        "print(data.columns.tolist())"
      ],
      "metadata": {
        "colab": {
          "base_uri": "https://localhost:8080/"
        },
        "id": "8bkeeMbuyPIW",
        "outputId": "a1e193b7-e769-4cfa-ebaf-4e557bd89d40"
      },
      "execution_count": 46,
      "outputs": [
        {
          "output_type": "stream",
          "name": "stdout",
          "text": [
            "       Country  Year      Status  Life expectancy   Adult Mortality  \\\n",
            "0  Afghanistan  2015  Developing              65.0            263.0   \n",
            "1  Afghanistan  2014  Developing              59.9            271.0   \n",
            "2  Afghanistan  2013  Developing              59.9            268.0   \n",
            "3  Afghanistan  2012  Developing              59.5            272.0   \n",
            "4  Afghanistan  2011  Developing              59.2            275.0   \n",
            "\n",
            "   infant deaths  Alcohol  percentage expenditure  Hepatitis B  Measles   ...  \\\n",
            "0             62     0.01               71.279624         65.0      1154  ...   \n",
            "1             64     0.01               73.523582         62.0       492  ...   \n",
            "2             66     0.01               73.219243         64.0       430  ...   \n",
            "3             69     0.01               78.184215         67.0      2787  ...   \n",
            "4             71     0.01                7.097109         68.0      3013  ...   \n",
            "\n",
            "   Polio  Total expenditure  Diphtheria    HIV/AIDS         GDP  Population  \\\n",
            "0    6.0               8.16         65.0        0.1  584.259210  33736494.0   \n",
            "1   58.0               8.18         62.0        0.1  612.696514    327582.0   \n",
            "2   62.0               8.13         64.0        0.1  631.744976  31731688.0   \n",
            "3   67.0               8.52         67.0        0.1  669.959000   3696958.0   \n",
            "4   68.0               7.87         68.0        0.1   63.537231   2978599.0   \n",
            "\n",
            "    thinness  1-19 years   thinness 5-9 years  \\\n",
            "0                   17.2                 17.3   \n",
            "1                   17.5                 17.5   \n",
            "2                   17.7                 17.7   \n",
            "3                   17.9                 18.0   \n",
            "4                   18.2                 18.2   \n",
            "\n",
            "   Income composition of resources  Schooling  \n",
            "0                            0.479       10.1  \n",
            "1                            0.476       10.0  \n",
            "2                            0.470        9.9  \n",
            "3                            0.463        9.8  \n",
            "4                            0.454        9.5  \n",
            "\n",
            "[5 rows x 22 columns]\n",
            "['Country', 'Year', 'Status', 'Life expectancy ', 'Adult Mortality', 'infant deaths', 'Alcohol', 'percentage expenditure', 'Hepatitis B', 'Measles ', ' BMI ', 'under-five deaths ', 'Polio', 'Total expenditure', 'Diphtheria ', ' HIV/AIDS', 'GDP', 'Population', ' thinness  1-19 years', ' thinness 5-9 years', 'Income composition of resources', 'Schooling']\n"
          ]
        }
      ]
    },
    {
      "cell_type": "code",
      "source": [
        "print(data.dtypes)\n",
        "\n",
        "categorical_cols = data.select_dtypes(include=['object']).columns.tolist()\n",
        "print(\"Categorical columns:\", categorical_cols)"
      ],
      "metadata": {
        "colab": {
          "base_uri": "https://localhost:8080/"
        },
        "id": "dlRsvs6J4ec_",
        "outputId": "4a88d3c6-270b-41d6-e9a9-650a1cb7bf42"
      },
      "execution_count": 45,
      "outputs": [
        {
          "output_type": "stream",
          "name": "stdout",
          "text": [
            "Country                             object\n",
            "Year                                 int64\n",
            "Status                              object\n",
            "Life expectancy                    float64\n",
            "Adult Mortality                    float64\n",
            "infant deaths                        int64\n",
            "Alcohol                            float64\n",
            "percentage expenditure             float64\n",
            "Hepatitis B                        float64\n",
            "Measles                              int64\n",
            " BMI                               float64\n",
            "under-five deaths                    int64\n",
            "Polio                              float64\n",
            "Total expenditure                  float64\n",
            "Diphtheria                         float64\n",
            " HIV/AIDS                          float64\n",
            "GDP                                float64\n",
            "Population                         float64\n",
            " thinness  1-19 years              float64\n",
            " thinness 5-9 years                float64\n",
            "Income composition of resources    float64\n",
            "Schooling                          float64\n",
            "dtype: object\n",
            "Categorical columns: ['Country', 'Status']\n"
          ]
        }
      ]
    },
    {
      "cell_type": "code",
      "source": [
        "import pandas as pd\n",
        "import numpy as np\n",
        "from sklearn.model_selection import train_test_split\n",
        "from sklearn.impute import SimpleImputer\n",
        "from sklearn.pipeline import Pipeline\n",
        "from sklearn.linear_model import LogisticRegression\n",
        "from sklearn.ensemble import RandomForestClassifier\n",
        "from sklearn.svm import SVC\n",
        "from sklearn.neighbors import KNeighborsClassifier\n",
        "from sklearn.tree import DecisionTreeClassifier\n",
        "from sklearn.metrics import confusion_matrix, accuracy_score, precision_score, recall_score, f1_score\n",
        "\n",
        "data = pd.read_csv('life_expectancy.csv')\n",
        "\n",
        "categorical_cols = data.select_dtypes(include=['object']).columns.tolist()\n",
        "\n",
        "data_encoded = pd.get_dummies(data, columns=categorical_cols, drop_first=True)\n",
        "\n",
        "X = data_encoded.drop('Life expectancy ', axis=1)\n",
        "y = data_encoded['Life expectancy ']\n",
        "\n",
        "bins = [0, 50, 60, 70, 80, 90, 100]\n",
        "labels = [0, 1, 2, 3, 4, 5]\n",
        "\n",
        "y_binned = pd.cut(y, bins=bins, labels=labels, include_lowest=True)\n",
        "\n",
        "data_cleaned = data_encoded.dropna()\n",
        "X_cleaned = data_cleaned.drop('Life expectancy ', axis=1)\n",
        "y_cleaned = data_cleaned['Life expectancy ']\n",
        "\n",
        "y_cleaned_binned = pd.cut(y_cleaned, bins=bins, labels=labels, include_lowest=True)\n",
        "\n",
        "X_train, X_test, y_train, y_test = train_test_split(X_cleaned, y_cleaned_binned, test_size=0.2, random_state=42)\n",
        "\n",
        "pipelines = {\n",
        "    'Logistic Regression': Pipeline([('imputer', SimpleImputer(strategy='mean')),\n",
        "                                     ('model', LogisticRegression(max_iter=2000))]),\n",
        "    'Random Forest': Pipeline([('imputer', SimpleImputer(strategy='mean')),\n",
        "                               ('model', RandomForestClassifier())]),\n",
        "    'SVC': Pipeline([('imputer', SimpleImputer(strategy='mean')),\n",
        "                     ('model', SVC())]),\n",
        "    'KNN': Pipeline([('imputer', SimpleImputer(strategy='mean')),\n",
        "                     ('model', KNeighborsClassifier())]),\n",
        "    'Decision Tree': Pipeline([('imputer', SimpleImputer(strategy='mean')),\n",
        "                               ('model', DecisionTreeClassifier())])\n",
        "}\n",
        "\n",
        "for name, pipeline in pipelines.items():\n",
        "    pipeline.fit(X_train, y_train)\n",
        "    preds = pipeline.predict(X_test)\n",
        "\n",
        "    cm = confusion_matrix(y_test, preds)\n",
        "    accuracy = accuracy_score(y_test, preds)\n",
        "    precision = precision_score(y_test, preds, average='weighted', zero_division=0)\n",
        "    recall = recall_score(y_test, preds, average='weighted', zero_division=0)\n",
        "    f1 = f1_score(y_test, preds, average='weighted', zero_division=0)\n",
        "\n",
        "    print(f\"{name} Metrics:\")\n",
        "    print(f\"Confusion Matrix:\\n{cm}\")\n",
        "    print(f\"Accuracy: {accuracy:.2f}\")\n",
        "    print(f\"Precision: {precision:.2f}\")\n",
        "    print(f\"Recall: {recall:.2f}\")\n",
        "    print(f\"F1 Score: {f1:.2f}\\n\")"
      ],
      "metadata": {
        "colab": {
          "base_uri": "https://localhost:8080/"
        },
        "id": "4EWsh4q-7DL5",
        "outputId": "17e1802d-7e8b-4aa8-8669-0f0d67792379"
      },
      "execution_count": 44,
      "outputs": [
        {
          "output_type": "stream",
          "name": "stderr",
          "text": [
            "/usr/local/lib/python3.10/dist-packages/sklearn/linear_model/_logistic.py:469: ConvergenceWarning: lbfgs failed to converge (status=1):\n",
            "STOP: TOTAL NO. of ITERATIONS REACHED LIMIT.\n",
            "\n",
            "Increase the number of iterations (max_iter) or scale the data as shown in:\n",
            "    https://scikit-learn.org/stable/modules/preprocessing.html\n",
            "Please also refer to the documentation for alternative solver options:\n",
            "    https://scikit-learn.org/stable/modules/linear_model.html#logistic-regression\n",
            "  n_iter_i = _check_optimize_result(\n"
          ]
        },
        {
          "output_type": "stream",
          "name": "stdout",
          "text": [
            "Logistic Regression Metrics:\n",
            "Confusion Matrix:\n",
            "[[  0   0   5   3   0]\n",
            " [  0   0  40   7   0]\n",
            " [  0   0  41  39   0]\n",
            " [  0   1  46 127   2]\n",
            " [  0   0   1  12   6]]\n",
            "Accuracy: 0.53\n",
            "Precision: 0.48\n",
            "Recall: 0.53\n",
            "F1 Score: 0.49\n",
            "\n",
            "Random Forest Metrics:\n",
            "Confusion Matrix:\n",
            "[[  5   3   0   0   0]\n",
            " [  1  43   3   0   0]\n",
            " [  0   3  74   3   0]\n",
            " [  0   0   3 172   1]\n",
            " [  0   0   0   3  16]]\n",
            "Accuracy: 0.94\n",
            "Precision: 0.94\n",
            "Recall: 0.94\n",
            "F1 Score: 0.94\n",
            "\n",
            "SVC Metrics:\n",
            "Confusion Matrix:\n",
            "[[  0   0   0   8   0]\n",
            " [  0   0   1  46   0]\n",
            " [  0   0   6  74   0]\n",
            " [  0   0   3 173   0]\n",
            " [  0   0   0  19   0]]\n",
            "Accuracy: 0.54\n",
            "Precision: 0.43\n",
            "Recall: 0.54\n",
            "F1 Score: 0.40\n",
            "\n",
            "KNN Metrics:\n",
            "Confusion Matrix:\n",
            "[[ 0  1  4  3  0]\n",
            " [ 3  7 26 10  1]\n",
            " [ 3 14 36 26  1]\n",
            " [ 3 27 48 95  3]\n",
            " [ 1  3  1 11  3]]\n",
            "Accuracy: 0.43\n",
            "Precision: 0.47\n",
            "Recall: 0.43\n",
            "F1 Score: 0.44\n",
            "\n",
            "Decision Tree Metrics:\n",
            "Confusion Matrix:\n",
            "[[  5   3   0   0   0]\n",
            " [  4  40   3   0   0]\n",
            " [  0   4  73   3   0]\n",
            " [  0   0   5 168   3]\n",
            " [  0   0   0   2  17]]\n",
            "Accuracy: 0.92\n",
            "Precision: 0.92\n",
            "Recall: 0.92\n",
            "F1 Score: 0.92\n",
            "\n"
          ]
        }
      ]
    },
    {
      "cell_type": "code",
      "source": [
        "import pandas as pd\n",
        "import numpy as np\n",
        "from sklearn.model_selection import train_test_split\n",
        "from sklearn.impute import SimpleImputer\n",
        "from sklearn.pipeline import Pipeline\n",
        "from sklearn.linear_model import LinearRegression\n",
        "from sklearn.neighbors import KNeighborsRegressor\n",
        "from sklearn.tree import DecisionTreeRegressor\n",
        "from sklearn.ensemble import RandomForestRegressor\n",
        "from sklearn.svm import SVR\n",
        "from sklearn.metrics import mean_squared_error, mean_absolute_error, r2_score\n",
        "\n",
        "data = pd.read_csv('life_expectancy.csv')\n",
        "\n",
        "categorical_cols = data.select_dtypes(include=['object']).columns.tolist()\n",
        "\n",
        "data_encoded = pd.get_dummies(data, columns=categorical_cols, drop_first=True)\n",
        "\n",
        "X = data_encoded.drop('Life expectancy ', axis=1)\n",
        "y = data_encoded['Life expectancy ']\n",
        "\n",
        "data_cleaned = data_encoded.dropna()\n",
        "X_cleaned = data_cleaned.drop('Life expectancy ', axis=1)\n",
        "y_cleaned = data_cleaned['Life expectancy ']\n",
        "\n",
        "X_train, X_test, y_train, y_test = train_test_split(X_cleaned, y_cleaned, test_size=0.2, random_state=42)\n",
        "\n",
        "pipelines = {\n",
        "    'Linear Regression': Pipeline([('imputer', SimpleImputer(strategy='mean')),\n",
        "                                   ('model', LinearRegression())]),\n",
        "    'KNN': Pipeline([('imputer', SimpleImputer(strategy='mean')),\n",
        "                     ('model', KNeighborsRegressor())]),\n",
        "    'Decision Tree': Pipeline([('imputer', SimpleImputer(strategy='mean')),\n",
        "                               ('model', DecisionTreeRegressor())]),\n",
        "    'Random Forest': Pipeline([('imputer', SimpleImputer(strategy='mean')),\n",
        "                               ('model', RandomForestRegressor())]),\n",
        "    'SVR': Pipeline([('imputer', SimpleImputer(strategy='mean')),\n",
        "                     ('model', SVR())])\n",
        "}\n",
        "\n",
        "predictions = {}\n",
        "for name, pipeline in pipelines.items():\n",
        "    pipeline.fit(X_train, y_train)\n",
        "    preds = pipeline.predict(X_test)\n",
        "\n",
        "    predictions[name] = preds\n",
        "\n",
        "    rmse = np.sqrt(mean_squared_error(y_test, preds))\n",
        "    mae = mean_absolute_error(y_test, preds)\n",
        "    r2 = r2_score(y_test, preds)\n",
        "\n",
        "    print(f\"{name} - RMSE: {rmse:.2f}, MAE: {mae:.2f}, R^2: {r2:.2f}\")"
      ],
      "metadata": {
        "colab": {
          "base_uri": "https://localhost:8080/"
        },
        "id": "V4FGGaX27RMl",
        "outputId": "4dbea42c-c4ec-4cf0-a878-0bf31f7a59f8"
      },
      "execution_count": 43,
      "outputs": [
        {
          "output_type": "stream",
          "name": "stdout",
          "text": [
            "Linear Regression - RMSE: 1.91, MAE: 1.13, R^2: 0.95\n",
            "KNN - RMSE: 8.40, MAE: 6.67, R^2: 0.01\n",
            "Decision Tree - RMSE: 2.92, MAE: 1.55, R^2: 0.88\n",
            "Random Forest - RMSE: 1.86, MAE: 1.10, R^2: 0.95\n",
            "SVR - RMSE: 8.51, MAE: 6.42, R^2: -0.02\n"
          ]
        }
      ]
    }
  ]
}